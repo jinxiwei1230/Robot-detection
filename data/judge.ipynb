{
 "cells": [
  {
   "cell_type": "code",
   "execution_count": 2064,
   "metadata": {},
   "outputs": [],
   "source": [
    "import pandas as pd\n",
    "import numpy as np\n",
    "import seaborn as sns\n",
    "import matplotlib.pyplot as plt\n",
    "from scipy.stats import chi2_contingency\n",
    "from sklearn.ensemble import AdaBoostClassifier\n",
    "from sklearn.ensemble import BaggingClassifier\n",
    "from sklearn.ensemble import RandomForestClassifier\n",
    "from sklearn.tree import DecisionTreeClassifier # 决策树\n",
    "from sklearn.neighbors import KNeighborsClassifier # KNN\n",
    "from sklearn.metrics import roc_auc_score\n",
    "from sklearn.model_selection import cross_val_score,train_test_split, GridSearchCV\n",
    "\n",
    "import warnings\n",
    "warnings.filterwarnings(\"ignore\")\n"
   ]
  },
  {
   "cell_type": "code",
   "execution_count": 2065,
   "metadata": {},
   "outputs": [],
   "source": [
    "trade_df = pd.read_csv('./trade.csv')\n",
    "train_df = pd.read_csv('./user_train.csv')\n",
    "test_df = pd.read_csv('./user_test.csv')"
   ]
  },
  {
   "cell_type": "markdown",
   "metadata": {},
   "source": [
    "### 2.1分析、提取数据"
   ]
  },
  {
   "cell_type": "markdown",
   "metadata": {},
   "source": [
    "处理trade文件，将时间属性标准化"
   ]
  },
  {
   "cell_type": "code",
   "execution_count": 2066,
   "metadata": {},
   "outputs": [],
   "source": [
    "from sklearn.preprocessing import MinMaxScaler, StandardScaler\n",
    "\n",
    "'''\n",
    "# 使用 Min-Max 标准化\n",
    "min_max_scaler = MinMaxScaler()\n",
    "trade_df['time_normalized'] = min_max_scaler.fit_transform(trade_df[['time']])\n",
    "trade_df\n",
    "'''\n",
    "# 使用 Z-score 标准化\n",
    "z_score_scaler = StandardScaler()\n",
    "trade_df['time_normalized'] = z_score_scaler.fit_transform(trade_df[['time']])\n"
   ]
  },
  {
   "cell_type": "markdown",
   "metadata": {},
   "source": [
    "提取数据：\n",
    "处理trade文件，计算每个用户的交易次数，提取出每个用户常用的ip, url, 国家，设备，经常购买的东西"
   ]
  },
  {
   "cell_type": "code",
   "execution_count": 2067,
   "metadata": {},
   "outputs": [],
   "source": [
    "def trade_data_processing(trade_df):\n",
    "    # 计算每个用户的交易数量\n",
    "    trade_count = trade_df.groupby('bidder_id').size().reset_index(name='trade_count')\n",
    "    trade_count = trade_count.reset_index(drop=True)\n",
    "\n",
    "    #计算每个用户竞拍的平均时间\n",
    "    average_times = trade_df.groupby('bidder_id')['time_normalized'].mean()\n",
    "    average_times = average_times.reset_index(name='average_times')\n",
    "\n",
    "    # 计算每个用户最常用的设备\n",
    "    device_counts = trade_df.groupby(['bidder_id', 'device']).size()\n",
    "    device_counts = device_counts.reset_index(name='device_counts')\n",
    "    most_used_devices = device_counts.loc[device_counts.groupby('bidder_id')['device_counts'].idxmax()]\n",
    "    most_used_devices = most_used_devices.rename(columns={\"device\": \"most_used_device\"}).reset_index(drop=True)\n",
    "\n",
    "    # 计算每个用户最常在的国家\n",
    "    country_counts = trade_df.groupby(['bidder_id', 'country']).size()\n",
    "    country_counts = country_counts.reset_index(name='country_counts')\n",
    "    most_used_countries = country_counts.loc[country_counts.groupby('bidder_id')['country_counts'].idxmax()]\n",
    "    most_used_countries = most_used_countries.rename(columns={\"country\": \"most_used_country\"}).reset_index(drop=True)\n",
    "\n",
    "    #计算每个用户最常购买的东西merchandise \n",
    "    merchandise_counts = trade_df.groupby(['bidder_id','merchandise']).size()\n",
    "    merchandise_counts = merchandise_counts.reset_index(name='merchandise_counts')\n",
    "    most_merchandise = merchandise_counts.loc[merchandise_counts.groupby('bidder_id')['merchandise_counts'].idxmax()]\n",
    "    most_merchandise = most_merchandise.rename(columns={\"merchandise\":\"most_merchandise\"}).reset_index(drop=True)\n",
    "    \n",
    "    #计算每个用户最常用的ip\n",
    "    ip_counts = trade_df.groupby(['bidder_id','ip']).size()\n",
    "    ip_counts = ip_counts.reset_index(name='ip_counts')\n",
    "    most_used_ip = ip_counts.loc[ip_counts.groupby('bidder_id')['ip_counts'].idxmax()]\n",
    "    most_used_ip = most_used_ip.rename(columns={\"ip\":\"most_used_ip\"}).reset_index(drop=True)\n",
    "     \n",
    "    #计算每个用户最常用的url\n",
    "    url_counts = trade_df.groupby(['bidder_id','url']).size()\n",
    "    url_counts = url_counts.reset_index(name='url_counts')\n",
    "    most_used_url = url_counts.loc[url_counts.groupby('bidder_id')['url_counts'].idxmax()]\n",
    "    most_used_url = most_used_url.rename(columns={\"url\":\"most_used_url\"}).reset_index(drop=True)\n",
    "\n",
    "    # 合并所有表格\n",
    "    feature_df = trade_count.merge(most_used_devices, on='bidder_id', how='left').reset_index(drop=True)\n",
    "    feature_df = feature_df.merge(most_used_countries, on='bidder_id', how='left').reset_index(drop=True)\n",
    "    feature_df = feature_df.merge(average_times, on='bidder_id', how='left').reset_index(drop=True)\n",
    "    feature_df = feature_df.merge(most_merchandise, on='bidder_id', how='left').reset_index(drop=True)\n",
    "    feature_df = feature_df.merge(most_used_ip, on='bidder_id', how='left').reset_index(drop=True)\n",
    "    feature_df = feature_df.merge(most_used_url, on='bidder_id', how='left').reset_index(drop=True)\n",
    "    #feature_df = feature_df.drop(columns=['url_counts','ip_counts','country_counts','merchandise_counts','device_counts'])\n",
    "    return feature_df\n",
    "\n",
    "# 处理交易数据并生成用户特征数据框 user_feature_df\n",
    "user_feature_df = trade_data_processing(trade_df)\n",
    "\n",
    "# 将处理后的user_feature_df分别与train_df和test_df数据集合并\n",
    "train_df = train_df.merge(user_feature_df, left_on='bidder_id', right_on='bidder_id', how='left')\n",
    "test_df = test_df.merge(user_feature_df, left_on='bidder_id', right_on='bidder_id', how='left')"
   ]
  },
  {
   "cell_type": "markdown",
   "metadata": {},
   "source": [
    "### 2.2数据预处理"
   ]
  },
  {
   "cell_type": "markdown",
   "metadata": {},
   "source": [
    "2.2.1 查看并填充缺失值，（推测缺失值是未交易过的用户数据）"
   ]
  },
  {
   "cell_type": "code",
   "execution_count": 2068,
   "metadata": {},
   "outputs": [
    {
     "data": {
      "text/plain": [
       "bidder_id             0\n",
       "payment_account       0\n",
       "address               0\n",
       "outcome               0\n",
       "trade_count           5\n",
       "most_used_device      5\n",
       "device_counts         5\n",
       "most_used_country     5\n",
       "country_counts        5\n",
       "average_times         5\n",
       "most_merchandise      5\n",
       "merchandise_counts    5\n",
       "most_used_ip          5\n",
       "ip_counts             5\n",
       "most_used_url         5\n",
       "url_counts            5\n",
       "dtype: int64"
      ]
     },
     "execution_count": 2068,
     "metadata": {},
     "output_type": "execute_result"
    }
   ],
   "source": [
    "# 查看train_df每一列的缺失值,推测缺失值是没有进行交易的用户\n",
    "missing_values_per_column = train_df.isnull().sum()\n",
    "missing_values_per_column"
   ]
  },
  {
   "cell_type": "code",
   "execution_count": 2069,
   "metadata": {},
   "outputs": [
    {
     "data": {
      "text/plain": [
       "bidder_id              0\n",
       "payment_account        0\n",
       "address                0\n",
       "trade_count           24\n",
       "most_used_device      24\n",
       "device_counts         24\n",
       "most_used_country     25\n",
       "country_counts        25\n",
       "average_times         24\n",
       "most_merchandise      24\n",
       "merchandise_counts    24\n",
       "most_used_ip          24\n",
       "ip_counts             24\n",
       "most_used_url         24\n",
       "url_counts            24\n",
       "dtype: int64"
      ]
     },
     "execution_count": 2069,
     "metadata": {},
     "output_type": "execute_result"
    }
   ],
   "source": [
    "# 查看test_df每一列的缺失值,推测缺失值是没有进行交易的用户\n",
    "missing_values_per_column2 = test_df.isnull().sum()\n",
    "missing_mask = test_df.isnull().any(axis=1)\n",
    "missing_values_per_column2"
   ]
  },
  {
   "cell_type": "code",
   "execution_count": 2070,
   "metadata": {},
   "outputs": [
    {
     "name": "stdout",
     "output_type": "stream",
     "text": [
      "train_df 存在缺失值的用户的标签:\n",
      "5      0.0\n",
      "56     0.0\n",
      "91     0.0\n",
      "404    0.0\n",
      "434    0.0\n",
      "Name: outcome, dtype: float64\n"
     ]
    }
   ],
   "source": [
    "# 查找包含缺失值的行并输出标签\n",
    "def print_missing_labels(df, label_col):\n",
    "    missing_rows = df[df.isnull().any(axis=1)]\n",
    "    if not missing_rows.empty:\n",
    "        print(\"train_df 存在缺失值的用户的标签:\")\n",
    "        print(missing_rows[label_col])\n",
    "    else:\n",
    "        print(\"没有缺失值.\")\n",
    "\n",
    "# 打印训练数据集中包含缺失值的行的标签\n",
    "print_missing_labels(train_df, 'outcome')"
   ]
  },
  {
   "cell_type": "markdown",
   "metadata": {},
   "source": [
    "填充缺失值"
   ]
  },
  {
   "cell_type": "code",
   "execution_count": 2071,
   "metadata": {},
   "outputs": [],
   "source": [
    "\n",
    "def fillNAN(df):\n",
    "    # 选择数值型和布尔型数据\n",
    "    num_columns = df.select_dtypes(include=[\"number\", \"bool\"]).columns\n",
    "    # 选择标称属性（非数值型和布尔型数据）\n",
    "    cat_columns = df.select_dtypes(exclude=[\"number\", \"bool\"]).columns\n",
    "\n",
    "    # 填充数值型和布尔型数据的缺失值为平均数\n",
    "    for col in num_columns:\n",
    "        mean_value = df[col].mean()\n",
    "        df[col] = df[col].fillna(mean_value)\n",
    "\n",
    "    # 填充标称属性的缺失值为众数\n",
    "    for col in cat_columns:\n",
    "        mode_value = df[col].mode()[0]\n",
    "        df[col] = df[col].fillna(mode_value)\n",
    "    return df\n",
    "\n",
    "# 填充缺失值为平均值或众数\n",
    "# train_df = fillNAN(train_df)\n",
    "# test_df = fillNAN(test_df)\n",
    "\n",
    "# 填充缺失值为0\n",
    "train_df = train_df.fillna(0)\n",
    "test_df = test_df.fillna(0)"
   ]
  },
  {
   "cell_type": "markdown",
   "metadata": {},
   "source": [
    "2.2.2 去除异常值"
   ]
  },
  {
   "cell_type": "code",
   "execution_count": 2072,
   "metadata": {},
   "outputs": [
    {
     "data": {
      "image/png": "[encoded data removed]",
      "text/plain": [
       "<Figure size 640x480 with 1 Axes>"
      ]
     },
     "metadata": {},
     "output_type": "display_data"
    }
   ],
   "source": [
    "# 箱线图去除异常值\n",
    "def remove_outliers_box(df):\n",
    "    cleaned_df = df.copy()  \n",
    "    # 处理连续型特征\n",
    "    continuous_features = df.drop(columns=['outcome']).select_dtypes(include=['number']).columns\n",
    "    for column in continuous_features:\n",
    "        # 使用箱线图计算上下边缘\n",
    "        q1 = df[column].quantile(0.25)\n",
    "        q3 = df[column].quantile(0.75)\n",
    "        iqr = q3 - q1\n",
    "        lower = q1 - 3 * iqr\n",
    "        upper = q3 + 3 * iqr\n",
    "        #将异常值替换为最大值或者最小值：\n",
    "        df[column] = np.where(df[column] > upper, upper, df[column])\n",
    "        df[column] = np.where(df[column] < lower, lower, df[column])\n",
    "\n",
    "    # 选择数值型列进行可视化\n",
    "    numeric_columns = train_df.select_dtypes(include=[np.number]).columns.tolist()\n",
    "    # 将数据转换为长格式\n",
    "    train_df_melted = train_df.melt(id_vars=['outcome'], value_vars=numeric_columns, var_name='feature', value_name='value')\n",
    "\n",
    "    # 绘制去除异常值前的箱线图\n",
    "    plt.subplot(1, 2, 1)\n",
    "    sns.boxplot(x='feature', y='value', data=train_df_melted)\n",
    "    plt.title('Before Removing Outliers')\n",
    "    plt.xticks(rotation=90)\n",
    "\n",
    "    plt.tight_layout()\n",
    "    plt.show()\n",
    "    return cleaned_df\n",
    "train_df = remove_outliers_box(train_df)"
   ]
  },
  {
   "cell_type": "code",
   "execution_count": 2073,
   "metadata": {},
   "outputs": [],
   "source": [
    "def remove_outliers(df):\n",
    "    numeric_columns = df.drop(columns=['outcome']).select_dtypes(include=[np.number]).columns\n",
    "    \n",
    "    for column in numeric_columns:\n",
    "        mean = df[column].mean()\n",
    "        std = df[column].std()\n",
    "        upper_bound = mean + 3 * std\n",
    "        lower_bound = mean - 3 * std\n",
    "        \n",
    "        # 将超出3σ范围的异常值替换为最大或最小值\n",
    "        df[column] = np.where(df[column] > upper_bound, upper_bound, df[column])\n",
    "        df[column] = np.where(df[column] < lower_bound, lower_bound, df[column])\n",
    "    \n",
    "    return df"
   ]
  },
  {
   "cell_type": "markdown",
   "metadata": {},
   "source": [
    "### 2.2.3相关性分析"
   ]
  },
  {
   "cell_type": "markdown",
   "metadata": {},
   "source": [
    "通过卡方检验计算标称属性与outcome的相关性"
   ]
  },
  {
   "cell_type": "code",
   "execution_count": 2074,
   "metadata": {},
   "outputs": [
    {
     "name": "stdout",
     "output_type": "stream",
     "text": [
      "卡方检验结果 (按 p 值排序):\n",
      "trade_count 与标签的p值: 2.4482008174724135e-16\n",
      "most_used_country 与标签的p值: 1.0624510375206792e-05\n",
      "most_used_url 与标签的p值: 0.07327042437444542\n",
      "average_times 与标签的p值: 0.42896394693577283\n",
      "most_used_ip 与标签的p值: 0.5028500783829134\n",
      "most_merchandise 与标签的p值: 0.7320468589690592\n",
      "most_used_device 与标签的p值: 0.9213488225184201\n",
      "\n",
      "与标签有显著相关性的标称属性有：\n",
      "trade_count\n",
      "most_used_country\n"
     ]
    }
   ],
   "source": [
    "# 存储卡方检验结果的字典\n",
    "chi2_results = {}\n",
    "\n",
    "# 要进行卡方检验的属性\n",
    "categorical_columns = ['trade_count','average_times','most_used_device', 'most_used_country', 'most_merchandise','most_used_ip','most_used_url']\n",
    "\n",
    "# 对每个属性进行卡方检验\n",
    "for column in categorical_columns:\n",
    "    contingency_table = pd.crosstab(train_df[column], train_df['outcome'])\n",
    "    chi2, p, dof, expected = chi2_contingency(contingency_table)\n",
    "    chi2_results[column] = p\n",
    "\n",
    "# 将结果转换为 DataFrame 并按 p 值排序\n",
    "chi2_df = pd.DataFrame(list(chi2_results.items()), columns=['Feature', 'p_value'])\n",
    "chi2_df = chi2_df.sort_values(by='p_value')\n",
    "\n",
    "# 输出P值结果\n",
    "print(\"卡方检验结果 (按 p 值排序):\")\n",
    "for index, row in chi2_df.iterrows():\n",
    "    print(f\"{row['Feature']} 与标签的p值: {row['p_value']}\")\n",
    "\n",
    "# 判断并输出有显著相关性的特征\n",
    "alpha = 0.05\n",
    "significant_features = [feature for feature, p_value in chi2_results.items() if p_value < alpha]\n",
    "\n",
    "if significant_features:\n",
    "    print(\"\\n与标签有显著相关性的标称属性有：\")\n",
    "    for feature in significant_features:\n",
    "        print(feature)\n",
    "else:\n",
    "    print(\"\\n没有标称属性与标签之间有显著的相关性。\")\n"
   ]
  },
  {
   "cell_type": "markdown",
   "metadata": {},
   "source": [
    "计算连续属性与outcome的相关性"
   ]
  },
  {
   "cell_type": "code",
   "execution_count": 2075,
   "metadata": {},
   "outputs": [
    {
     "data": {
      "image/png": "[encoded data removed]",
      "text/plain": [
       "<Figure size 600x400 with 2 Axes>"
      ]
     },
     "metadata": {},
     "output_type": "display_data"
    },
    {
     "name": "stdout",
     "output_type": "stream",
     "text": [
      "与标签 'outcome' 相关性最大的7个属性：\n",
      "Index(['ip_counts', 'average_times', 'country_counts', 'device_counts',\n",
      "       'url_counts', 'trade_count', 'merchandise_counts'],\n",
      "      dtype='object')\n"
     ]
    }
   ],
   "source": [
    "import seaborn as sns\n",
    "import matplotlib.pyplot as plt\n",
    "\n",
    "# 选择数值型和布尔型数据\n",
    "num_features = train_df.select_dtypes(include=[\"number\"]).copy()\n",
    "# 计算相关系数矩阵\n",
    "corrmat = num_features.corr()\n",
    "# 选择与目标变量 'outcome' 相关性最大的7个属性\n",
    "k = 7\n",
    "cols = corrmat.nlargest(k + 1, 'outcome')['outcome'].index  # 加1是因为包括了目标变量本身\n",
    "cm = np.corrcoef(train_df[cols].values.T)\n",
    "\n",
    "# 画出heatmap\n",
    "sns.set_context(\"notebook\", font_scale=0.75)\n",
    "plt.figure(figsize=(6, 4))\n",
    "hm = sns.heatmap(cm, cbar=True, annot=True, square=True, fmt='.2f',annot_kws={'size': 8}, yticklabels=cols.values, xticklabels=cols.values)\n",
    "plt.show()\n",
    "\n",
    "print(\"与标签 'outcome' 相关性最大的7个属性：\")\n",
    "print(cols[1:])\n"
   ]
  },
  {
   "cell_type": "markdown",
   "metadata": {},
   "source": [
    "对标称属性进行独热编码"
   ]
  },
  {
   "cell_type": "code",
   "execution_count": 2076,
   "metadata": {},
   "outputs": [],
   "source": [
    "\n",
    "# 合并训练集和测试集\n",
    "combined_df = pd.concat([train_df, test_df], keys=['train', 'test'])\n",
    "\n",
    "# 进行独热编码\n",
    "categorical_features = ['most_used_country']\n",
    "combined_encoded = pd.get_dummies(combined_df, columns=categorical_features)\n",
    "\n",
    "# 拆分回训练集和测试集\n",
    "train_encoded = combined_encoded.xs('train')\n",
    "test_encoded = combined_encoded.xs('test')\n"
   ]
  },
  {
   "cell_type": "markdown",
   "metadata": {},
   "source": [
    "生成特征交互"
   ]
  },
  {
   "cell_type": "code",
   "execution_count": 2077,
   "metadata": {},
   "outputs": [],
   "source": [
    " # 生成特征交互\n",
    "def generate_feature_interactions(train_df, test_df, categorical_features):\n",
    "    for feature1 in categorical_features:\n",
    "        for feature2 in categorical_features:\n",
    "            if feature1 != feature2:\n",
    "                train_df[f'{feature1}-{feature2}'] = train_df[feature1].astype(str) + '-' + train_df[feature2].astype(str)\n",
    "                test_df[f'{feature1}-{feature2}'] = test_df[feature1].astype(str) + '-' + test_df[feature2].astype(str)\n",
    "\n",
    "    # 合并训练集和测试集\n",
    "    combined_df = pd.concat([train_df, test_df], keys=['train', 'test'])\n",
    "\n",
    "    # 独热编码\n",
    "    interaction_features = [f'{feature1}-{feature2}' for feature1 in categorical_features for feature2 in categorical_features if feature1 != feature2]\n",
    "    combined_encoded = pd.get_dummies(combined_df, columns=interaction_features)\n",
    "\n",
    "    # 拆分回训练集和测试集\n",
    "    train_encoded = combined_encoded.xs('train')\n",
    "    test_encoded = combined_encoded.xs('test')\n",
    "\n",
    "    return train_encoded, test_encoded\n",
    "\n",
    "#选择特征most_used_ip和most_used_device进行交互\n",
    "#选择特征most_used_device和most_used_url进行交互\n",
    "categorical_features = ['most_used_ip', 'most_used_country']\n",
    "train_encoded, test_encoded = generate_feature_interactions(train_df, test_df, categorical_features)\n",
    "categorical_features = ['most_used_device', 'most_used_url']\n",
    "train_encoded, test_encoded = generate_feature_interactions(train_encoded, test_encoded, categorical_features)"
   ]
  },
  {
   "cell_type": "code",
   "execution_count": 2078,
   "metadata": {},
   "outputs": [],
   "source": [
    "# 将布尔列转换为浮点列\n",
    "for column in train_encoded.columns:\n",
    "    if train_encoded[column].dtype == bool:\n",
    "        train_encoded[column] = train_encoded[column].astype(np.float64)\n",
    "for column in test_encoded.columns:\n",
    "    if test_encoded[column].dtype == bool:\n",
    "        test_encoded[column] = test_encoded[column].astype(np.float64)\n"
   ]
  },
  {
   "cell_type": "code",
   "execution_count": 2079,
   "metadata": {},
   "outputs": [],
   "source": [
    "#删去非数值属性的列用于训练\n",
    "columns1 = train_encoded.select_dtypes(exclude=[\"number\", \"bool\"]).columns\n",
    "number_train = train_encoded.drop(columns=columns1)\n",
    "number_test = test_encoded.drop(columns=columns1)\n",
    "number_test = number_test.drop(columns=['outcome'])"
   ]
  },
  {
   "cell_type": "code",
   "execution_count": 2080,
   "metadata": {},
   "outputs": [],
   "source": [
    "# 将number_train划分为数据集和训练集来训练模型\n",
    "train_train, train_test = train_test_split(number_train, test_size=0.4, random_state=42)\n",
    "Y = train_train['outcome']\n",
    "X = train_train.drop(columns=['outcome']).select_dtypes(include=['number'])"
   ]
  },
  {
   "cell_type": "markdown",
   "metadata": {},
   "source": [
    "RandomForest"
   ]
  },
  {
   "cell_type": "code",
   "execution_count": 2081,
   "metadata": {},
   "outputs": [
    {
     "name": "stdout",
     "output_type": "stream",
     "text": [
      "RF准确率： 0.9501639344262296\n"
     ]
    },
    {
     "data": {
      "text/plain": [
       "'\\n# 定义RF调优的参数网格param_grid1\\nparam_grid1 = {\\n    \\'n_estimators\\': [50, 100, 150],\\n    \\'max_features\\': [2, 3, 4],\\n    \\'criterion\\': [\\'gini\\', \\'entropy\\']\\n}\\n# 实例化 GridSearchCV 对象\\ngrid_search1 = GridSearchCV(clf1, param_grid1, cv=5)\\n\\n# 使用网格搜索对模型进行参数调优\\ngrid_search1.fit(X, Y)\\n\\n# 输出最佳参数组合和对应的评分\\nprint(\"最佳参数组合: \", grid_search1.best_params_)\\nprint(\"最佳准确率: \", grid_search1.best_score_)\\n\\n# 使用最佳参数训练模型并进行评估\\nbest_clf1 = grid_search1.best_estimator_\\nscores = cross_val_score(best_clf1, X, Y, cv=5)\\nprint(\\'调优后RF准确率：\\', scores.mean())\\n'"
      ]
     },
     "execution_count": 2081,
     "metadata": {},
     "output_type": "execute_result"
    }
   ],
   "source": [
    "# 使用随机森林模型进行训练和交叉验证\n",
    "clf1 = RandomForestClassifier(n_estimators=50, max_features=2, criterion='gini')\n",
    "clf1.fit(X, Y)\n",
    "scores = cross_val_score(clf1, X, Y, cv=5)\n",
    "print('RF准确率：', scores.mean())\n",
    "\n",
    "# 定义RF调优的参数网格param_grid1\n",
    "param_grid1 = {\n",
    "    'n_estimators': [50, 100, 150],\n",
    "    'max_features': [2, 3, 4],\n",
    "    'criterion': ['gini', 'entropy']\n",
    "}\n",
    "# 实例化 GridSearchCV 对象\n",
    "grid_search1 = GridSearchCV(clf1, param_grid1, cv=5)\n",
    "\n",
    "# 使用网格搜索对模型进行参数调优\n",
    "grid_search1.fit(X, Y)\n",
    "\n",
    "# 输出最佳参数组合和对应的评分\n",
    "print(\"最佳参数组合: \", grid_search1.best_params_)\n",
    "print(\"最佳准确率: \", grid_search1.best_score_)\n",
    "\n",
    "# 使用最佳参数训练模型并进行评估\n",
    "best_clf1 = grid_search1.best_estimator_\n",
    "scores = cross_val_score(best_clf1, X, Y, cv=5)\n",
    "print('调优后RF准确率：', scores.mean())\n"
   ]
  },
  {
   "cell_type": "markdown",
   "metadata": {},
   "source": [
    "AdaBoost"
   ]
  },
  {
   "cell_type": "code",
   "execution_count": 2082,
   "metadata": {},
   "outputs": [
    {
     "name": "stdout",
     "output_type": "stream",
     "text": [
      "AdaBoost准确率： 0.9535519125683061\n"
     ]
    },
    {
     "data": {
      "text/plain": [
       "'\\n# 定义要调优的参数范围\\nparam_grid2 = {\\n    \\'n_estimators\\': [50, 100, 150, 200],\\n    \\'learning_rate\\': [0.001, 0.01, 0.1, 1],\\n    \\'estimator\\': [DecisionTreeClassifier(max_depth=1), DecisionTreeClassifier(max_depth=3)],\\n    \\'algorithm\\': [\\'SAMME\\', \\'SAMME.R\\']\\n}\\n\\n# 使用网格搜索进行参数调优\\ngrid_search2 = GridSearchCV(estimator=clf2, param_grid=param_grid2, cv=5, scoring=\\'accuracy\\')\\ngrid_search2.fit(X, Y)\\n\\n# 打印最佳参数组合\\nprint(\"最佳参数组合：\", grid_search2.best_params_)\\nprint(\"最佳准确率：\", grid_search2.best_score_)\\n\\n# 使用最佳参数训练模型并进行评估\\nbest_clf2 = grid_search2.best_estimator_\\nscores = cross_val_score(best_clf2, X, Y, cv=5)\\nprint(\\'调优后AB准确率：\\', scores.mean())\\n'"
      ]
     },
     "execution_count": 2082,
     "metadata": {},
     "output_type": "execute_result"
    }
   ],
   "source": [
    "# 初始化AdaBoost模型\n",
    "clf2 = AdaBoostClassifier(estimator=DecisionTreeClassifier(max_depth=3),n_estimators=150,learning_rate=1,algorithm='SAMME.R',)\n",
    "clf2.fit(X, Y)\n",
    "scores = cross_val_score(clf2, X, Y, cv=5)\n",
    "print('AdaBoost准确率：', scores.mean())\n",
    "\n",
    "# 定义要调优的参数范围\n",
    "param_grid2 = {\n",
    "    'n_estimators': [50, 100, 150, 200],\n",
    "    'learning_rate': [0.001, 0.01, 0.1, 1],\n",
    "    'estimator': [DecisionTreeClassifier(max_depth=1), DecisionTreeClassifier(max_depth=3)],\n",
    "    'algorithm': ['SAMME', 'SAMME.R']\n",
    "}\n",
    "\n",
    "# 使用网格搜索进行参数调优\n",
    "grid_search2 = GridSearchCV(estimator=clf2, param_grid=param_grid2, cv=5, scoring='accuracy')\n",
    "grid_search2.fit(X, Y)\n",
    "\n",
    "# 打印最佳参数组合\n",
    "print(\"最佳参数组合：\", grid_search2.best_params_)\n",
    "print(\"最佳准确率：\", grid_search2.best_score_)\n",
    "\n",
    "# 使用最佳参数训练模型并进行评估\n",
    "best_clf2 = grid_search2.best_estimator_\n",
    "scores = cross_val_score(best_clf2, X, Y, cv=5)\n",
    "print('调优后AB准确率：', scores.mean())\n"
   ]
  },
  {
   "cell_type": "markdown",
   "metadata": {},
   "source": [
    "Bagging"
   ]
  },
  {
   "cell_type": "code",
   "execution_count": 2083,
   "metadata": {},
   "outputs": [
    {
     "name": "stdout",
     "output_type": "stream",
     "text": [
      "Bagging准确率： 0.9534972677595629\n"
     ]
    },
    {
     "data": {
      "text/plain": [
       "'\\n# 定义参数网格\\nparam_grid3 = {\\n    \\'n_estimators\\': [10, 20, 50, 100],\\n    \\'max_samples\\': [0.5, 0.7, 1.0],\\n    \\'max_features\\': [0.5, 0.7, 1.0],\\n    \\'bootstrap\\': [True, False],\\n    \\'bootstrap_features\\': [True, False]\\n}\\n# 使用 GridSearchCV 进行参数调优\\ngrid_search3 = GridSearchCV(estimator=clf3, param_grid=param_grid3, cv=5, scoring=\\'accuracy\\', n_jobs=-1)\\ngrid_search3.fit(X, Y)\\n\\n# 打印最佳参数组合\\nprint(\"最佳参数组合：\", grid_search3.best_params_)\\nprint(\"最佳准确率：\", grid_search3.best_score_)\\n\\n# 使用最佳参数训练模型并进行评估\\nbest_clf3 = grid_search3.best_estimator_\\nscores = cross_val_score(best_clf3, X, Y, cv=5)\\nprint(\\'调优后Bagging准确率：\\', scores.mean())\\n'"
      ]
     },
     "execution_count": 2083,
     "metadata": {},
     "output_type": "execute_result"
    }
   ],
   "source": [
    "# 初始化Bagging模型\n",
    "clf3 = BaggingClassifier(n_estimators=20,max_features=0.7,max_samples=0.7)\n",
    "clf3.fit(X, Y)\n",
    "scores = cross_val_score(clf3, X, Y, cv=5)\n",
    "print('Bagging准确率：', scores.mean())\n",
    "\n",
    "# 定义参数网格\n",
    "param_grid3 = {\n",
    "    'n_estimators': [10, 20, 50, 100],\n",
    "    'max_samples': [0.5, 0.7, 1.0],\n",
    "    'max_features': [0.5, 0.7, 1.0],\n",
    "    'bootstrap': [True, False],\n",
    "    'bootstrap_features': [True, False]\n",
    "}\n",
    "# 使用 GridSearchCV 进行参数调优\n",
    "grid_search3 = GridSearchCV(estimator=clf3, param_grid=param_grid3, cv=5, scoring='accuracy', n_jobs=-1)\n",
    "grid_search3.fit(X, Y)\n",
    "\n",
    "# 打印最佳参数组合\n",
    "print(\"最佳参数组合：\", grid_search3.best_params_)\n",
    "print(\"最佳准确率：\", grid_search3.best_score_)\n",
    "\n",
    "# 使用最佳参数训练模型并进行评估\n",
    "best_clf3 = grid_search3.best_estimator_\n",
    "scores = cross_val_score(best_clf3, X, Y, cv=5)\n",
    "print('调优后Bagging准确率：', scores.mean())\n"
   ]
  },
  {
   "cell_type": "markdown",
   "metadata": {},
   "source": [
    "测试集预测模型计算AUC"
   ]
  },
  {
   "cell_type": "code",
   "execution_count": 2084,
   "metadata": {},
   "outputs": [
    {
     "name": "stdout",
     "output_type": "stream",
     "text": [
      "RF Valid aUC:  0.7989035087719298\n",
      "AdaBoost Valid aUC:  0.7484649122807017\n",
      "Bagging Valid aUC:  0.6712719298245614\n"
     ]
    }
   ],
   "source": [
    "\n",
    "y_real = train_test['outcome']\n",
    "X_test = train_test.drop(columns=['outcome']).select_dtypes(include=[\"number\", \"bool\"])\n",
    "\n",
    "# 预测结果\n",
    "y_pred1 = clf1.predict_proba(X_test)[:, 1]\n",
    "y_pred2 = clf2.predict_proba(X_test)[:, 1]\n",
    "y_pred3 = clf3.predict_proba(X_test)[:, 1]\n",
    "\n",
    "# 计算AUC\n",
    "auc1 = roc_auc_score(y_real, y_pred1)\n",
    "print(\"RF Valid aUC: \", auc1)\n",
    "auc2 = roc_auc_score(y_real, y_pred2)\n",
    "print(\"AdaBoost Valid aUC: \", auc2)\n",
    "auc3 = roc_auc_score(y_real, y_pred3)\n",
    "print(\"Bagging Valid aUC: \", auc3)\n"
   ]
  },
  {
   "cell_type": "markdown",
   "metadata": {},
   "source": [
    "用训练好的模型预测test_df数据集，并保存结果"
   ]
  },
  {
   "cell_type": "code",
   "execution_count": 2085,
   "metadata": {},
   "outputs": [],
   "source": [
    "Y1 = number_train['outcome']\n",
    "X1 = number_train.drop(columns=['outcome']).select_dtypes(include=['number'])\n",
    "clf1.fit(X1,Y1)\n",
    "\n",
    "# 预测test_df数据集\n",
    "X_test = number_test.select_dtypes(include=[\"number\", \"bool\"])\n",
    "y_test = clf1.predict_proba(X_test)[:, 1]\n",
    "\n",
    "# 保存预测结果\n",
    "test_df['prediction'] = y_test\n",
    "test_df[['prediction']].to_csv('result.csv', index=False, header=False)"
   ]
  }
 ],
 "metadata": {
  "kernelspec": {
   "display_name": "data_science",
   "language": "python",
   "name": "python3"
  },
  "language_info": {
   "codemirror_mode": {
    "name": "ipython",
    "version": 3
   },
   "file_extension": ".py",
   "mimetype": "text/x-python",
   "name": "python",
   "nbconvert_exporter": "python",
   "pygments_lexer": "ipython3",
   "version": "3.12.2"
  }
 },
 "nbformat": 4,
 "nbformat_minor": 2
}
